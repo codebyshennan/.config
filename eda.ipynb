{
  "nbformat": 4,
  "nbformat_minor": 0,
  "metadata": {
    "colab": {
      "provenance": [],
      "toc_visible": true,
      "authorship_tag": "ABX9TyNXXRQ5MHHl0Q/l9RZDRHE2",
      "include_colab_link": true
    },
    "kernelspec": {
      "name": "python3",
      "display_name": "Python 3"
    },
    "language_info": {
      "name": "python"
    }
  },
  "cells": [
    {
      "cell_type": "markdown",
      "metadata": {
        "id": "view-in-github",
        "colab_type": "text"
      },
      "source": [
        "<a href=\"https://colab.research.google.com/github/codebyshennan/.config/blob/main/eda.ipynb\" target=\"_parent\"><img src=\"https://colab.research.google.com/assets/colab-badge.svg\" alt=\"Open In Colab\"/></a>"
      ]
    },
    {
      "cell_type": "markdown",
      "source": [
        "#Introduction\n",
        "\n",
        "Team:\n",
        "1. Wong Shen Nan\n",
        "2. Abdul Halim Abdul Karim\n",
        "3. Nway Aung\n",
        "\n",
        "## Module Objective\n",
        "\n",
        "In this module, you will apply the knowledge and skills  acquired in other PDC1 modules to develop a solution for a problem in selected domain using machine learning approach.\n",
        "\n",
        "## Module Learning Outcomes\n",
        "\n",
        "1. Identify and select a suitable machine learning model for a given problem and data set\n",
        "2. Develop and deploy a machine learning application using appropriate software framework and tools\n",
        "3. Apply model tuning and optimization to improve performance of machine learning systems\n",
        "4. Evaluate machine learning models using appropriate metrics for efficiency and effectiveness"
      ],
      "metadata": {
        "id": "EneLTxV22nCk"
      }
    },
    {
      "cell_type": "markdown",
      "source": [
        "## Problem Statement\n",
        "*This problem was adapted from the [2022 FormulaAI Hackathon](\n",
        "https://www.kaggle.com/datasets/oracledevrel/formulaaihackathon2022)*\n",
        "\n",
        "Formula 1 is one of the most competitive sports in the world. Engineers and technicians from every team use weather radar screens, provided by Ubimet to the teams, which allows them to track the current weather and make predictions during the race. Race engineers relay precise information to drivers, including:\n",
        "\n",
        "1. How many minutes until it starts raining\n",
        "2. Intensity of the rain\n",
        "3. Which corner will be hit first by the rain\n",
        "4. Duration of the rain\n",
        "5. Points, and even races sometimes, are won and lost based on making sense of what the weather is going to do during a race, and being prepared as a team to act accordingly.\n",
        "\n",
        "Therefore, weather forecasting takes a big part on the possible outcome of a race.\n",
        "\n",
        "Similarly, F1 2021, the official Formula 1 videogame developed by Codemasters, uses a physics engine that behaves like the real world.\n",
        "\n",
        "You are presented with historical weather data from the RedBull Racing eSports team and you will be required develop an Artificial Intelligence model that is able to make accurate weather predictions / forecasts."
      ],
      "metadata": {
        "id": "nUtBmekB2_hr"
      }
    },
    {
      "cell_type": "code",
      "execution_count": null,
      "metadata": {
        "id": "tgybjWIb2YuN"
      },
      "outputs": [],
      "source": []
    }
  ]
}